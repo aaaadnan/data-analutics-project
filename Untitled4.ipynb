{
 "cells": [
  {
   "cell_type": "code",
   "execution_count": 11,
   "id": "85008327-3061-48ce-85cb-099ee50d438a",
   "metadata": {},
   "outputs": [],
   "source": [
    "!pip -q install efficient-apriori"
   ]
  },
  {
   "cell_type": "code",
   "execution_count": 12,
   "id": "4177e088-34bf-4046-9bcf-49c4722601b0",
   "metadata": {},
   "outputs": [
    {
     "ename": "ModuleNotFoundError",
     "evalue": "No module named 'efficient_apriori'",
     "output_type": "error",
     "traceback": [
      "\u001b[1;31m---------------------------------------------------------------------------\u001b[0m",
      "\u001b[1;31mModuleNotFoundError\u001b[0m                       Traceback (most recent call last)",
      "Cell \u001b[1;32mIn[12], line 1\u001b[0m\n\u001b[1;32m----> 1\u001b[0m \u001b[38;5;28;01mfrom\u001b[39;00m \u001b[38;5;21;01mefficient_apriori\u001b[39;00m \u001b[38;5;28;01mimport\u001b[39;00m apriori\n\u001b[0;32m      2\u001b[0m \u001b[38;5;28;01mimport\u001b[39;00m \u001b[38;5;21;01mpandas\u001b[39;00m \u001b[38;5;28;01mas\u001b[39;00m \u001b[38;5;21;01mpd\u001b[39;00m\n\u001b[0;32m      3\u001b[0m \u001b[38;5;28;01mimport\u001b[39;00m \u001b[38;5;21;01mmatplotlib\u001b[39;00m\u001b[38;5;21;01m.\u001b[39;00m\u001b[38;5;21;01mpyplot\u001b[39;00m \u001b[38;5;28;01mas\u001b[39;00m \u001b[38;5;21;01mplt\u001b[39;00m\n",
      "\u001b[1;31mModuleNotFoundError\u001b[0m: No module named 'efficient_apriori'"
     ]
    }
   ],
   "source": [
    "from efficient_apriori import apriori\n",
    "import pandas as pd\n",
    "import matplotlib.pyplot as plt\n",
    "\n",
    "watch_history = [\n",
    "    (\"Inception\", \"Interstellar\", \"The Dark Knight\",\"Money Heist\"),\n",
    "    (\"Inception\", \"The Dark Knight\", \"Batman Begins\",),\n",
    "    (\"Inception\", \"Interstellar\", \"Tenet\"),\n",
    "    (\"The Dark Knight\", \"Joker\", \"Batman Begins\"),\n",
    "    (\"Interstellar\", \"Gravity\", \"The Martian\"),\n",
    "    (\"The Dark Knight\", \"Inception\", \"Joker\"),\n",
    "    (\"Interstellar\", \"Tenet\", \"Arrival\"),\n",
    "    (\"Joker\", \"The Batman\", \"The Dark Knight\"),\n",
    "    (\"Inception\", \"Tenet\", \"Interstellar\"),\n",
    "    (\"The Batman\", \"Joker\", \"Dark Knight Rises\"),\n",
    "]\n",
    "\n",
    "itemsets, rules = apriori(\n",
    "    watch_history,\n",
    "    min_support=0.2,\n",
    "    min_confidence=0.5\n",
    ")\n",
    "\n",
    "print(\"Frequent itemsets:\")\n",
    "for k in sorted(itemsets):\n",
    "    print(f\"k = {k} -> {itemsets[k]}\")\n",
    "\n",
    "print(\"\\nTop rules by lift:\")\n",
    "sorted_rules = sorted(rules, key=lambda r: r.lift, reverse=True)\n",
    "for r in sorted_rules[:10]:\n",
    "    lhs = \", \".join(list(r.lhs))\n",
    "    rhs = \", \".join(list(r.rhs))\n",
    "    print(f\"{lhs} -> {rhs}  [support={r.support:.2f}, confidence={r.confidence:.2f}, lift={r.lift:.2f}]\")\n",
    "\n",
    "def recommend_from(movie, rules, top_n=5):\n",
    "    rows = []\n",
    "    for r in rules:\n",
    "        if movie in r.lhs and len(r.rhs) == 1:\n",
    "            rec = list(r.rhs)[0]\n",
    "            rows.append((rec, r.confidence, r.lift))\n",
    "    if not rows:\n",
    "        return pd.DataFrame(columns=[\"Recommended\", \"Confidence\", \"Lift\"])\n",
    "    recs = pd.DataFrame(rows, columns=[\"Recommended\", \"Confidence\", \"Lift\"])\n",
    "    return recs.sort_values([\"Lift\", \"Confidence\"], ascending=False).head(top_n)\n",
    "\n",
    "print(\"\\nRecommendations for Inception:\")\n",
    "print(recommend_from(\"Inception\", rules))\n",
    "\n",
    "print(\"\\nRecommendations for Joker:\")\n",
    "print(recommend_from(\"Joker\", rules))\n",
    "\n",
    "def rules_to_df(rules, top_n=10):\n",
    "    data = []\n",
    "    for r in sorted(rules, key=lambda x: x.lift, reverse=True)[:top_n]:\n",
    "        lhs = \", \".join(list(r.lhs))\n",
    "        rhs = \", \".join(list(r.rhs))\n",
    "        data.append({\n",
    "            \"Rule\": f\"{lhs} -> {rhs}\",\n",
    "            \"Support\": r.support,\n",
    "            \"Confidence\": r.confidence,\n",
    "            \"Lift\": r.lift\n",
    "        })\n",
    "    return pd.DataFrame(data)\n",
    "\n",
    "top_rules_df = rules_to_df(rules, top_n=10)\n",
    "if not top_rules_df.empty:\n",
    "    plt.figure(figsize=(10, 5))\n",
    "    plt.barh(top_rules_df[\"Rule\"], top_rules_df[\"Lift\"])\n",
    "    plt.xlabel(\"Lift\")\n",
    "    plt.title(\"Top association rules by lift\")\n",
    "    plt.gca().invert_yaxis()\n",
    "    plt.tight_layout()\n",
    "    plt.show()\n",
    "else:\n",
    "    print(\"\\nNo rules found. Try lowering thresholds, for example support 0.15 and confidence 0.4.\")\n",
    "\n"
   ]
  },
  {
   "cell_type": "code",
   "execution_count": null,
   "id": "2cf163cf-fa8f-4f22-918e-fb300424afe0",
   "metadata": {},
   "outputs": [],
   "source": []
  }
 ],
 "metadata": {
  "kernelspec": {
   "display_name": "Python 3 (ipykernel)",
   "language": "python",
   "name": "python3"
  },
  "language_info": {
   "codemirror_mode": {
    "name": "ipython",
    "version": 3
   },
   "file_extension": ".py",
   "mimetype": "text/x-python",
   "name": "python",
   "nbconvert_exporter": "python",
   "pygments_lexer": "ipython3",
   "version": "3.12.7"
  }
 },
 "nbformat": 4,
 "nbformat_minor": 5
}
